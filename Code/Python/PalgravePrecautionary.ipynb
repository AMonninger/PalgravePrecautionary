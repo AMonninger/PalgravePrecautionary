{
 "cells": [
  {
   "cell_type": "markdown",
   "metadata": {},
   "source": [
    "# Precautionary Saving and Precautionary Wealth\n",
    "\n",
    "### A notebook by [Mateo Velasquez-Giraldo](https://github.com/Mv77/)\n",
    "\n",
    "This notebook reproduces the figures in Christopher D. Carroll and Miles S. Kimball's entry on [Precautionary Saving and Precautionary Wealth](http://www.econ2.jhu.edu/people/ccarroll/PalgravePrecautionary.pdf) in [The New Palgrave Dictionary of Economics](https://www.palgrave.com/gp/book/9781349951888), using tools from the [Econ-ARK](https://econ-ark.org/) project."
   ]
  },
  {
   "cell_type": "code",
   "execution_count": 1,
   "metadata": {
    "code_folding": []
   },
   "outputs": [
    {
     "name": "stdout",
     "output_type": "stream",
     "text": [
      "Requirement already satisfied: econ-ark in c:\\github\\hark (0.10.6)\n",
      "Requirement already satisfied: numpy in c:\\users\\mateo\\anaconda3\\lib\\site-packages (from econ-ark) (1.18.5)\n",
      "Requirement already satisfied: matplotlib in c:\\users\\mateo\\anaconda3\\lib\\site-packages (from econ-ark) (3.2.2)\n",
      "Requirement already satisfied: scipy in c:\\users\\mateo\\anaconda3\\lib\\site-packages (from econ-ark) (1.5.0)\n",
      "Requirement already satisfied: dill in c:\\users\\mateo\\anaconda3\\lib\\site-packages (from econ-ark) (0.3.1.1)\n",
      "Requirement already satisfied: joblib in c:\\users\\mateo\\anaconda3\\lib\\site-packages (from econ-ark) (0.16.0)\n",
      "Requirement already satisfied: python-dateutil>=2.1 in c:\\users\\mateo\\anaconda3\\lib\\site-packages (from matplotlib->econ-ark) (2.8.1)\n",
      "Requirement already satisfied: kiwisolver>=1.0.1 in c:\\users\\mateo\\anaconda3\\lib\\site-packages (from matplotlib->econ-ark) (1.2.0)\n",
      "Requirement already satisfied: pyparsing!=2.0.4,!=2.1.2,!=2.1.6,>=2.0.1 in c:\\users\\mateo\\anaconda3\\lib\\site-packages (from matplotlib->econ-ark) (2.4.7)\n",
      "Requirement already satisfied: cycler>=0.10 in c:\\users\\mateo\\anaconda3\\lib\\site-packages (from matplotlib->econ-ark) (0.10.0)\n",
      "Requirement already satisfied: six>=1.5 in c:\\users\\mateo\\anaconda3\\lib\\site-packages (from python-dateutil>=2.1->matplotlib->econ-ark) (1.15.0)\n",
      "Requirement already satisfied: numpy in c:\\users\\mateo\\anaconda3\\lib\\site-packages (1.18.5)\n",
      "Requirement already satisfied: matplotlib in c:\\users\\mateo\\anaconda3\\lib\\site-packages (3.2.2)\n",
      "Requirement already satisfied: cycler>=0.10 in c:\\users\\mateo\\anaconda3\\lib\\site-packages (from matplotlib) (0.10.0)\n",
      "Requirement already satisfied: pyparsing!=2.0.4,!=2.1.2,!=2.1.6,>=2.0.1 in c:\\users\\mateo\\anaconda3\\lib\\site-packages (from matplotlib) (2.4.7)\n",
      "Requirement already satisfied: python-dateutil>=2.1 in c:\\users\\mateo\\anaconda3\\lib\\site-packages (from matplotlib) (2.8.1)\n",
      "Requirement already satisfied: kiwisolver>=1.0.1 in c:\\users\\mateo\\anaconda3\\lib\\site-packages (from matplotlib) (1.2.0)\n",
      "Requirement already satisfied: numpy>=1.11 in c:\\users\\mateo\\anaconda3\\lib\\site-packages (from matplotlib) (1.18.5)\n",
      "Requirement already satisfied: six in c:\\users\\mateo\\anaconda3\\lib\\site-packages (from cycler>=0.10->matplotlib) (1.15.0)\n",
      "Requirement already satisfied: scipy in c:\\users\\mateo\\anaconda3\\lib\\site-packages (1.5.0)\n",
      "Requirement already satisfied: numpy>=1.14.5 in c:\\users\\mateo\\anaconda3\\lib\\site-packages (from scipy) (1.18.5)\n"
     ]
    }
   ],
   "source": [
    "# Uninteresting setup of the computational environment \n",
    "\n",
    "!pip install econ-ark\n",
    "!pip install numpy\n",
    "!pip install matplotlib \n",
    "!pip install scipy \n",
    "\n",
    "\n",
    "from HARK.ConsumptionSaving.ConsIndShockModel import IndShockConsumerType\n",
    "from HARK.distribution import DiscreteDistribution\n",
    "\n",
    "import matplotlib.pyplot as plt\n",
    "import numpy as np\n",
    "mystr = lambda number : \"{:.4f}\".format(number)\n",
    "\n",
    "from copy import copy\n",
    "\n",
    "from scipy.interpolate import interp1d\n",
    "from scipy.optimize import root_scalar\n",
    "\n",
    "from ipywidgets import interact, interactive, fixed, interact_manual\n",
    "import ipywidgets as widgets"
   ]
  },
  {
   "cell_type": "code",
   "execution_count": 2,
   "metadata": {
    "code_folding": [],
    "lines_to_next_cell": 2
   },
   "outputs": [],
   "source": [
    "# Define parameters for two consumers,\n",
    "# a perfect foresight one and one with shocks to income\n",
    "\n",
    "# Import standard parameters\n",
    "from HARK.ConsumptionSaving.ConsIndShockModel import init_idiosyncratic_shocks\n",
    "IdiosyncDict = init_idiosyncratic_shocks\n",
    "\n",
    "# Make modifications to fit our problem:\n",
    "\n",
    "# No artificial borrowing constraint\n",
    "IdiosyncDict[\"BoroCnstArt\"] = None\n",
    "# No unemployment\n",
    "IdiosyncDict[\"UnempPrb\"] = 0\n",
    "# Ask HARK to compute the value function\n",
    "IdiosyncDict[\"vFuncBool\"] = True\n",
    "# Turn off permanent income shocks\n",
    "IdiosyncDict[\"PermShkStd\"] = [0]\n",
    "\n",
    "# For transitory shocks, to illustrate the problem, we want two possible\n",
    "# values: a good and a bad one. This is most easily achieved by setting\n",
    "# a large standard deviation (3) and telling HARK to approximate the\n",
    "# distribution using only two points.\n",
    "IdiosyncDict[\"TranShkStd\"] = [3]\n",
    "IdiosyncDict[\"TranShkCount\"] = 2\n",
    "\n",
    "# Create a copy with income uncertainty turned off, for comparison\n",
    "PFDict = copy(IdiosyncDict)\n",
    "PFDict[\"TranShkStd\"] = [0]\n",
    "PFDict[\"TranShkCount\"] = 1"
   ]
  },
  {
   "cell_type": "code",
   "execution_count": 3,
   "metadata": {
    "code_folding": [],
    "lines_to_next_cell": 1
   },
   "outputs": [],
   "source": [
    "# Create and solve problems for the two consumers\n",
    "IndShockConsumer = IndShockConsumerType(**IdiosyncDict)\n",
    "IndShockConsumer.cycles = 2 # Make this type have a two-period horizon\n",
    "IndShockConsumer.solve()\n",
    "\n",
    "PFConsumer = IndShockConsumerType(**PFDict)\n",
    "PFConsumer.cycles = 2\n",
    "PFConsumer.solve()"
   ]
  },
  {
   "cell_type": "markdown",
   "metadata": {},
   "source": [
    "## Figure 1: Marginal Utility of Assets and Consumption"
   ]
  },
  {
   "cell_type": "markdown",
   "metadata": {},
   "source": [
    "Consider an agent facing the following dynamic problem expressed in recursive form:\n",
    "\n",
    "\\begin{equation}\n",
    "\\begin{split}\n",
    "v_t(m_t) =& \\max_{c_t} u(c_t) + \\beta \\mathbb{E}_t[v_{t+1}(R a_t + \\tilde{y}_{t+1})] \\\\\n",
    "& s.t & \\\\\n",
    "\\quad a_t =&  m_t - c_t,\n",
    "\\end{split}\n",
    "\\end{equation}\n",
    "\n",
    "where $c_t$ represents consumption, $m_t$ beginning-of-period resources, $a_t$ end-of-period resources, and $\\tilde{y}_{t+1}$ non-capital income in the next period, which is random from the perspective of this period.\n",
    "\n",
    "The consumer chooses $c_t$ balancing two forces:\n",
    "- The desire to consume his resources now, captured by $u(c_t)$.\n",
    "- The benefit that he gets from saving his resources for next period, which we represent with $\\omega(a_t)=\\beta \\mathbb{E}_t[v_{t+1}(R a_t + \\tilde{y}_{t+1})]$.\n",
    "\n",
    "Under standard assumptions, a requirement for optimality is that $$u'(m_t - a_t) = \\omega'(a_t),$$ because this is the condition that says that a marginal dollar of resources would be equally valuable if it were spent (yielding $u'$) or saved (yielding $\\omega^{\\prime}$).\n",
    "\n",
    "Figure 1 shows that uncertainty shifts up the expected marginal value of\n",
    "resources on the next period, moving savings from $a^*$ (which would be\n",
    "observed if income were certain at $\\mathbb{E}_t[\\tilde{y}_{t+1}]$) to \n",
    "$a^{**}$. This increase is the precautionary saving induced by the uncertainty \n",
    "around income."
   ]
  },
  {
   "cell_type": "code",
   "execution_count": 4,
   "metadata": {
    "code_folding": []
   },
   "outputs": [],
   "source": [
    "# Figure 1\n",
    "\n",
    "def uP(agent, c):\n",
    "    '''\n",
    "    Computes the marginal utility of consumption for an agent with\n",
    "    CRRA utility at a consumption level c.\n",
    "    '''\n",
    "    return( c**(-agent.CRRA) )\n",
    "    \n",
    "def approxOmegaP(agent):\n",
    "    '''\n",
    "    Constructs a function that computes the discounted expected marginal value\n",
    "    of wealth next period w'(a) for a grid of end of period assets using the\n",
    "    fact that optimal consumption c() satisfies u'(c(m_t)) = w'_t(m_t - c(m_t))\n",
    "    '''\n",
    "    # Take the end-of-period assets grid from the consumer\n",
    "    agrid = agent.aXtraGrid\n",
    "    a_min = agrid[0]\n",
    "    a_max = agrid[-1]\n",
    "    # For each a, we need to find the implied m that generates it\n",
    "    aux = lambda m: m - agent.solution[0].cFunc(m)\n",
    "    m_grid = np.array([root_scalar(lambda m: a - aux(m), x0 = a_min, x1 = a_max).root\n",
    "                       for a in agrid])\n",
    "    \n",
    "    # Then we can get consumption\n",
    "    c_grid = agent.solution[0].cFunc(m_grid)\n",
    "    # And with consmption, omega, since\n",
    "    # omega prime is U' at the optimal C.\n",
    "    omegaP_grid = uP(agent, c_grid)\n",
    "    \n",
    "    # We finally interpolate\n",
    "    omegaP = interp1d(agrid, omegaP_grid, kind='cubic')\n",
    "    \n",
    "    return(omegaP)\n",
    "\n",
    "def create_income_dstn(epsilon):\n",
    "    \n",
    "    # No permanent income shocks and 1+eps, 1-eps with half chance each for transitory.\n",
    "    IncomeDstn = DiscreteDistribution(np.array([0.5,0.5]),\n",
    "                                      [np.array([1,1]), np.array([1-epsilon,1+epsilon])])\n",
    "\n",
    "def create_agents(CRRA,TranShkStd):\n",
    "    \n",
    "    # Copy base dictionaries\n",
    "    un_dict = copy(IdiosyncDict)\n",
    "    pf_dict = copy(PFDict)\n",
    "    \n",
    "    # Update CRRA\n",
    "    un_dict['CRRA'] = CRRA\n",
    "    pf_dict['CRRA'] = CRRA\n",
    "    \n",
    "    # Update transitory shock sd\n",
    "    un_dict[\"TranShkStd\"] = [TranShkStd]\n",
    "    \n",
    "    IndShockConsumer = IndShockConsumerType(**un_dict)\n",
    "    IndShockConsumer.cycles = 2 # Make this type have a two-period horizon\n",
    "    IndShockConsumer.solve()\n",
    "\n",
    "    PFConsumer = IndShockConsumerType(**pf_dict)\n",
    "    PFConsumer.cycles = 2\n",
    "    PFConsumer.solve()\n",
    "    \n",
    "    return((IndShockConsumer, PFConsumer))\n",
    "\n",
    "def fig1(CRRA, TranShkStd, m, a_m_min, a_m_max):\n",
    "    \n",
    "    # Create and solve consumers\n",
    "    IndShockConsumer, PFConsumer = create_agents(CRRA, TranShkStd)\n",
    "    \n",
    "    # Approximate omega with and without uncertainty\n",
    "    omegaP_uncert = approxOmegaP(IndShockConsumer)\n",
    "    omegaP_PF = approxOmegaP(PFConsumer)\n",
    "\n",
    "    # Consumption functions\n",
    "    cPF = PFConsumer.solution[0].cFunc\n",
    "    cIS = IndShockConsumer.solution[0].cFunc\n",
    "\n",
    "    # Find intercepts with marginal utility\n",
    "    a_star1 = m - cPF(m)\n",
    "    a_star2 = m - cIS(m)\n",
    "\n",
    "    # Grid for end-of-period assets\n",
    "    a_grid = np.linspace(a_m_min*m, a_m_max*m, 50)\n",
    "\n",
    "    # Line labels\n",
    "    lab1 = '$\\omega_t\\'(a) = R \\\\beta E_t [v_{t+1}\\'(aR + \\\\tilde{y}_{t+1})]$'\n",
    "    lab2 = '$R \\\\beta v_{t+1}\\'(aR + E_t[\\\\tilde{y}_{t+1}])$'\n",
    "    lab3 = '$u\\'(m_t-a)$'\n",
    "\n",
    "    # Main lines\n",
    "\n",
    "    # Omega uncertainty\n",
    "    plt.figure(figsize = (10,8))\n",
    "    plt.plot(a_grid, omegaP_uncert(a_grid), label = lab1)\n",
    "    # Omega Perfect foresight\n",
    "    plt.plot(a_grid, omegaP_PF(a_grid), label = lab2)\n",
    "    # Marginal utility\n",
    "    plt.plot(a_grid, uP(IndShockConsumer, m - a_grid), label = lab3)\n",
    "\n",
    "    # Intersection lines\n",
    "    ymin = plt.gca().get_ylim()[0]\n",
    "    plt.plot([a_star1,a_star1],[ymin, uP(IndShockConsumer,m-a_star1)],'--k')\n",
    "    plt.plot([a_star2,a_star2],[ymin, uP(IndShockConsumer,m-a_star2)],'--k')\n",
    "\n",
    "    # x-axis ticks\n",
    "    ax = plt.gca()\n",
    "    ax.set_xticks([a_star1,a_star2])\n",
    "    ax.set_xticklabels([\"$a^*$\",\"$a^{**}$\"])\n",
    "\n",
    "    # Text\n",
    "    plt.xlabel('a', x=1)\n",
    "    plt.legend()\n"
   ]
  },
  {
   "cell_type": "code",
   "execution_count": 10,
   "metadata": {},
   "outputs": [
    {
     "data": {
      "application/vnd.jupyter.widget-view+json": {
       "model_id": "dfb7d3c124c54f4e99ac7df6824151ca",
       "version_major": 2,
       "version_minor": 0
      },
      "text/plain": [
       "interactive(children=(FloatSlider(value=2.0, continuous_update=False, description='$\\\\rho$', max=8.0, min=1.02…"
      ]
     },
     "metadata": {},
     "output_type": "display_data"
    },
    {
     "data": {
      "text/plain": [
       "<function __main__.fig1(CRRA, TranShkStd, m, a_m_min, a_m_max)>"
      ]
     },
     "execution_count": 10,
     "metadata": {},
     "output_type": "execute_result"
    }
   ],
   "source": [
    "# Widget\n",
    "\n",
    "# CRRA - slider\n",
    "crra_slider = widgets.FloatSlider(\n",
    "                min = 1.02,\n",
    "                max = 8,\n",
    "                step = 0.01,\n",
    "                value = 2,  # Default value\n",
    "                continuous_update=False,\n",
    "                readout_format ='.4f',\n",
    "                description='$\\\\rho$')\n",
    "\n",
    "# m - slider\n",
    "m_slider = widgets.FloatSlider(min = 1.00,\n",
    "                               max = 5,\n",
    "                               step = 0.5,\n",
    "                               value = 3,  # Default value\n",
    "                               continuous_update=False,\n",
    "                               readout_format ='.4f',\n",
    "                               description='$m$')\n",
    "\n",
    "# a_left_limit - slider\n",
    "a_m_min_slider = widgets.FloatSlider(min = 0.05,\n",
    "                                     max = 0.5,\n",
    "                                     step = 0.01,\n",
    "                                     value = 0.2,  # Default value\n",
    "                                     continuous_update=False,\n",
    "                                     readout_format ='.4f',\n",
    "                                     description='$a_{\\\\min}/m$')\n",
    "\n",
    "# a_right_limit - slider\n",
    "a_m_max_slider = widgets.FloatSlider(min = 0.5,\n",
    "                                     max = 0.99,\n",
    "                                     step = 0.01,\n",
    "                                     value = 0.8,  # Default value\n",
    "                                     continuous_update=False,\n",
    "                                     readout_format ='.4f',\n",
    "                                     description='$a_{\\\\max}/m$')\n",
    "\n",
    "# Shock std - slider\n",
    "TranShkStd_slider = widgets.FloatSlider(min = 0.1,\n",
    "                                        max = 5,\n",
    "                                        step = 0.01,\n",
    "                                        value = 1,  # Default value\n",
    "                                        continuous_update=False,\n",
    "                                        readout_format ='.4f',\n",
    "                                        description='Shock s.d.')\n",
    "\n",
    "interact(fig1,\n",
    "         CRRA = crra_slider,\n",
    "         TranShkStd = TranShkStd_slider,\n",
    "         m = m_slider,\n",
    "         a_m_min = a_m_min_slider,\n",
    "         a_m_max = a_m_max_slider)"
   ]
  },
  {
   "cell_type": "markdown",
   "metadata": {},
   "source": [
    "## Figure 2"
   ]
  },
  {
   "cell_type": "markdown",
   "metadata": {},
   "source": [
    "Figure 2 compares optimal consumption with and without income uncertainty.\n",
    "The three most important facts to note are:\n",
    "1. Consumption under uncertainty is always lower than its perfect-foresight counterpart.\n",
    "2. The difference between them vanishes as market resources approach infinity.\n",
    "3. Under uncertain future income, the consumption function is concave."
   ]
  },
  {
   "cell_type": "code",
   "execution_count": 6,
   "metadata": {
    "code_folding": []
   },
   "outputs": [
    {
     "data": {
      "text/plain": [
       "<matplotlib.legend.Legend at 0x23d8525bf88>"
      ]
     },
     "execution_count": 6,
     "metadata": {},
     "output_type": "execute_result"
    },
    {
     "data": {
      "image/png": "[encoded data removed]",
      "text/plain": [
       "<Figure size 720x576 with 1 Axes>"
      ]
     },
     "metadata": {
      "needs_background": "light"
     },
     "output_type": "display_data"
    }
   ],
   "source": [
    "# Figure 2\n",
    "\n",
    "# Define a function for the delta(m)=0 locus -- \"sustainable\" consumption\n",
    "m0_locus = lambda m: m - (m-1)/(IdiosyncDict[\"Rfree\"]/\n",
    "                         IdiosyncDict[\"PermGroFac\"][0])\n",
    "\n",
    "# Define grid of market resources\n",
    "m_max = 20\n",
    "m_grid = np.linspace(IndShockConsumer.solution[0].mNrmMin, m_max, 500)\n",
    "\n",
    "# Main lines\n",
    "\n",
    "# Uncertainty solution\n",
    "plt.figure(figsize = (10,8))\n",
    "plt.plot(m_grid, IndShockConsumer.solution[0].cFunc(m_grid),\n",
    "         label = '$c(m)$')\n",
    "# Perfect foresight solution\n",
    "plt.plot(m_grid, PFConsumer.solution[0].cFunc(m_grid),\n",
    "         label = 'Perf. Foresight $c(m)$')\n",
    "# Stable resource line\n",
    "plt.plot(m_grid, m0_locus(m_grid), label = 'Perm. Inc')\n",
    "# Target\n",
    "targ = (IndShockConsumer.solution[0].mNrmSS,\n",
    "        IndShockConsumer.solution[0].cFunc(IndShockConsumer.solution[0].mNrmSS))\n",
    "plt.plot(targ[0], targ[1], '*')\n",
    "\n",
    "# Annotations\n",
    "plt.xlabel('m')\n",
    "plt.ylabel('c')\n",
    "plt.annotate('Target',\n",
    "             xy = targ,\n",
    "             xytext = (targ[0]+1., targ[1]-1),\n",
    "             arrowprops=dict(facecolor='black', shrink=0.05,\n",
    "                             headwidth = 3, width = 0.5))\n",
    "plt.legend()"
   ]
  },
  {
   "cell_type": "markdown",
   "metadata": {},
   "source": [
    "# Figure 3"
   ]
  },
  {
   "cell_type": "code",
   "execution_count": 7,
   "metadata": {
    "code_folding": []
   },
   "outputs": [
    {
     "data": {
      "text/plain": [
       "<matplotlib.legend.Legend at 0x23d8715de48>"
      ]
     },
     "execution_count": 7,
     "metadata": {},
     "output_type": "execute_result"
    },
    {
     "data": {
      "image/png": "[encoded data removed]",
      "text/plain": [
       "<Figure size 720x576 with 1 Axes>"
      ]
     },
     "metadata": {
      "needs_background": "light"
     },
     "output_type": "display_data"
    }
   ],
   "source": [
    "# If perfect foresight marginal value (blue) is convex, adding uncertainty increases marginal value (Jensen)\n",
    "y_bar = 1\n",
    "eta = 0.5\n",
    "\n",
    "# Grid for end-of period assets\n",
    "a_min = 0.5\n",
    "a_max = 1.8\n",
    "a_grid = np.linspace(a_min, a_max, 50)\n",
    "\n",
    "# Extract the marginal t+1 value function from the PF agent\n",
    "vPt1 = lambda a: PFConsumer.solution[1].vPfunc(PFConsumer.Rfree*a + y_bar)\n",
    "# Define the expected value under uncertainty\n",
    "vPt1_u = lambda a: 0.5*PFConsumer.solution[1].vPfunc(PFConsumer.Rfree*a + y_bar - eta) +\\\n",
    "                   0.5*PFConsumer.solution[1].vPfunc(PFConsumer.Rfree*a + y_bar + eta)\n",
    "\n",
    "# Main lines\n",
    "plt.figure(figsize = (10,8))\n",
    "\n",
    "# V't+1 perfect foresight\n",
    "lab1 = '$\\\\mathbb{E}_t[v\\'_{t+1}(a_tR+\\\\tilde{y}_{t+1})]$'\n",
    "plt.plot(a_grid, vPt1(a_grid), label = lab1)\n",
    "# V't+1 with uncertainty\n",
    "lab2 = '$v\\'_{t+1}(a_tR+\\\\bar{y})$'\n",
    "plt.plot(a_grid, vPt1_u(a_grid), label = lab2)\n",
    "\n",
    "# Add secondary lines\n",
    "a = 1\n",
    "R = PFConsumer.Rfree\n",
    "plt.plot([a-eta/R,a+eta/R],\n",
    "         [vPt1(a-eta/R),vPt1(a+eta/R)], 'k--')\n",
    "\n",
    "plt.plot([a,a],[plt.gca().get_ylim()[0],vPt1_u(a)],'--k')\n",
    "\n",
    "# Dots\n",
    "plt.plot(a, vPt1_u(a),'k.')\n",
    "plt.plot(a-eta/R, vPt1(a-eta/R),'k.')\n",
    "plt.plot(a+eta/R, vPt1(a+eta/R),'k.')\n",
    "\n",
    "# Annotations\n",
    "mid  = [a, vPt1_u(a)]\n",
    "low  = [a-eta/R, vPt1(a-eta/R)]\n",
    "high = [a+eta/R, vPt1(a+eta/R)]\n",
    "\n",
    "plt.annotate('$v\\'_{t+1}(\\\\bar{a}R+\\\\bar{y}-\\\\eta)$',\n",
    "             xy = low,\n",
    "             xytext = (low[0], low[1]-0.2),\n",
    "             arrowprops=dict(facecolor='black', shrink=0.05,\n",
    "                             headwidth = 3, width = 0.5))\n",
    "\n",
    "plt.annotate('$v\\'_{t+1}(\\\\bar{a}R+\\\\bar{y}+\\\\eta)$',\n",
    "             xy = high,\n",
    "             xytext = (high[0], high[1]-0.07),\n",
    "             arrowprops=dict(facecolor='black', shrink=0.05,\n",
    "                             headwidth = 3, width = 0.5))\n",
    "\n",
    "plt.annotate('$0.5 v\\'_{t+1}(\\\\bar{a}R+\\\\bar{y}+\\\\eta)+$\\n$0.5 v\\'_{t+1}(\\\\bar{a}R+\\\\bar{y}-\\\\eta)$',\n",
    "             xy = mid,\n",
    "             xytext = (mid[0]+0.2, mid[1]),\n",
    "             arrowprops=dict(facecolor='black', shrink=0.05,\n",
    "                             headwidth = 3, width = 0.5))\n",
    "\n",
    "# xtick for a_bar\n",
    "ax = plt.gca()\n",
    "xt = ax.get_xticks()\n",
    "xt = np.append(xt,[a])\n",
    "\n",
    "xtl = ax.get_xticklabels()\n",
    "xtl = np.append(xtl, [\"$\\\\bar{a}$\"])\n",
    "\n",
    "ax.set_xticks([a])\n",
    "ax.set_xticklabels([\"$\\\\bar{a}$\"])\n",
    "\n",
    "# Axis labels and legend\n",
    "plt.xlabel('$a_t$')\n",
    "plt.ylabel('$v\\'_{t+1}$')\n",
    "plt.legend()"
   ]
  }
 ],
 "metadata": {
  "jupytext": {
   "formats": "ipynb,py:percent"
  },
  "kernelspec": {
   "display_name": "Python 3",
   "language": "python",
   "name": "python3"
  },
  "language_info": {
   "codemirror_mode": {
    "name": "ipython",
    "version": 3
   },
   "file_extension": ".py",
   "mimetype": "text/x-python",
   "name": "python",
   "nbconvert_exporter": "python",
   "pygments_lexer": "ipython3",
   "version": "3.7.7"
  },
  "latex_envs": {
   "LaTeX_envs_menu_present": true,
   "autoclose": false,
   "autocomplete": true,
   "bibliofile": "biblio.bib",
   "cite_by": "apalike",
   "current_citInitial": 1,
   "eqLabelWithNumbers": true,
   "eqNumInitial": 1,
   "hotkeys": {
    "equation": "Ctrl-E",
    "itemize": "Ctrl-I"
   },
   "labels_anchors": false,
   "latex_user_defs": false,
   "report_style_numbering": false,
   "user_envs_cfg": false
  },
  "toc": {
   "base_numbering": 1,
   "nav_menu": {},
   "number_sections": true,
   "sideBar": true,
   "skip_h1_title": false,
   "title_cell": "Table of Contents",
   "title_sidebar": "Contents",
   "toc_cell": false,
   "toc_position": {},
   "toc_section_display": true,
   "toc_window_display": true
  }
 },
 "nbformat": 4,
 "nbformat_minor": 4
}
